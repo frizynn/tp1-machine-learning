{
 "cells": [
  {
   "cell_type": "code",
   "execution_count": 103,
   "metadata": {},
   "outputs": [],
   "source": [
    "import numpy as np\n",
    "import pandas as pd\n",
    "import matplotlib.pyplot as plt"
   ]
  },
  {
   "cell_type": "code",
   "execution_count": 104,
   "metadata": {},
   "outputs": [
    {
     "data": {
      "text/html": [
       "<div>\n",
       "<style scoped>\n",
       "    .dataframe tbody tr th:only-of-type {\n",
       "        vertical-align: middle;\n",
       "    }\n",
       "\n",
       "    .dataframe tbody tr th {\n",
       "        vertical-align: top;\n",
       "    }\n",
       "\n",
       "    .dataframe thead th {\n",
       "        text-align: right;\n",
       "    }\n",
       "</style>\n",
       "<table border=\"1\" class=\"dataframe\">\n",
       "  <thead>\n",
       "    <tr style=\"text-align: right;\">\n",
       "      <th></th>\n",
       "      <th>area</th>\n",
       "      <th>area_units</th>\n",
       "      <th>is_house</th>\n",
       "      <th>has_pool</th>\n",
       "      <th>age</th>\n",
       "      <th>price</th>\n",
       "      <th>lat</th>\n",
       "      <th>lon</th>\n",
       "      <th>rooms</th>\n",
       "    </tr>\n",
       "  </thead>\n",
       "  <tbody>\n",
       "    <tr>\n",
       "      <th>70</th>\n",
       "      <td>872.0</td>\n",
       "      <td>sqft</td>\n",
       "      <td>0</td>\n",
       "      <td>0</td>\n",
       "      <td>11.0</td>\n",
       "      <td>630.0</td>\n",
       "      <td>40.718433</td>\n",
       "      <td>-74.008699</td>\n",
       "      <td>2.0</td>\n",
       "    </tr>\n",
       "    <tr>\n",
       "      <th>827</th>\n",
       "      <td>1076.0</td>\n",
       "      <td>sqft</td>\n",
       "      <td>0</td>\n",
       "      <td>0</td>\n",
       "      <td>7.0</td>\n",
       "      <td>772.0</td>\n",
       "      <td>40.707037</td>\n",
       "      <td>-73.998823</td>\n",
       "      <td>3.0</td>\n",
       "    </tr>\n",
       "    <tr>\n",
       "      <th>231</th>\n",
       "      <td>137.0</td>\n",
       "      <td>m2</td>\n",
       "      <td>0</td>\n",
       "      <td>0</td>\n",
       "      <td>10.0</td>\n",
       "      <td>214.0</td>\n",
       "      <td>-34.550223</td>\n",
       "      <td>-58.391268</td>\n",
       "      <td>4.0</td>\n",
       "    </tr>\n",
       "    <tr>\n",
       "      <th>588</th>\n",
       "      <td>775.0</td>\n",
       "      <td>sqft</td>\n",
       "      <td>1</td>\n",
       "      <td>1</td>\n",
       "      <td>10.0</td>\n",
       "      <td>751.0</td>\n",
       "      <td>40.726223</td>\n",
       "      <td>-74.043929</td>\n",
       "      <td>2.0</td>\n",
       "    </tr>\n",
       "    <tr>\n",
       "      <th>39</th>\n",
       "      <td>154.0</td>\n",
       "      <td>m2</td>\n",
       "      <td>1</td>\n",
       "      <td>0</td>\n",
       "      <td>16.0</td>\n",
       "      <td>273.0</td>\n",
       "      <td>-34.563525</td>\n",
       "      <td>-58.347365</td>\n",
       "      <td>4.0</td>\n",
       "    </tr>\n",
       "  </tbody>\n",
       "</table>\n",
       "</div>"
      ],
      "text/plain": [
       "       area area_units  is_house  has_pool   age  price        lat        lon  \\\n",
       "70    872.0       sqft         0         0  11.0  630.0  40.718433 -74.008699   \n",
       "827  1076.0       sqft         0         0   7.0  772.0  40.707037 -73.998823   \n",
       "231   137.0         m2         0         0  10.0  214.0 -34.550223 -58.391268   \n",
       "588   775.0       sqft         1         1  10.0  751.0  40.726223 -74.043929   \n",
       "39    154.0         m2         1         0  16.0  273.0 -34.563525 -58.347365   \n",
       "\n",
       "     rooms  \n",
       "70     2.0  \n",
       "827    3.0  \n",
       "231    4.0  \n",
       "588    2.0  \n",
       "39     4.0  "
      ]
     },
     "execution_count": 104,
     "metadata": {},
     "output_type": "execute_result"
    }
   ],
   "source": [
    "df = pd.read_csv(r\"../data/raw/casas_dev.csv\") \n",
    "\n",
    "df.sample(5, random_state=42)\n"
   ]
  },
  {
   "cell_type": "code",
   "execution_count": 105,
   "metadata": {},
   "outputs": [
    {
     "data": {
      "text/html": [
       "<div>\n",
       "<style scoped>\n",
       "    .dataframe tbody tr th:only-of-type {\n",
       "        vertical-align: middle;\n",
       "    }\n",
       "\n",
       "    .dataframe tbody tr th {\n",
       "        vertical-align: top;\n",
       "    }\n",
       "\n",
       "    .dataframe thead th {\n",
       "        text-align: right;\n",
       "    }\n",
       "</style>\n",
       "<table border=\"1\" class=\"dataframe\">\n",
       "  <thead>\n",
       "    <tr style=\"text-align: right;\">\n",
       "      <th></th>\n",
       "      <th>area</th>\n",
       "      <th>area_units</th>\n",
       "      <th>is_house</th>\n",
       "      <th>has_pool</th>\n",
       "      <th>age</th>\n",
       "      <th>price</th>\n",
       "      <th>lat</th>\n",
       "      <th>lon</th>\n",
       "      <th>rooms</th>\n",
       "    </tr>\n",
       "  </thead>\n",
       "  <tbody>\n",
       "    <tr>\n",
       "      <th>874</th>\n",
       "      <td>98.0</td>\n",
       "      <td>m2</td>\n",
       "      <td>0</td>\n",
       "      <td>0</td>\n",
       "      <td>NaN</td>\n",
       "      <td>232.0</td>\n",
       "      <td>-34.591521</td>\n",
       "      <td>-58.389672</td>\n",
       "      <td>3.0</td>\n",
       "    </tr>\n",
       "    <tr>\n",
       "      <th>784</th>\n",
       "      <td>119.0</td>\n",
       "      <td>m2</td>\n",
       "      <td>1</td>\n",
       "      <td>1</td>\n",
       "      <td>NaN</td>\n",
       "      <td>226.0</td>\n",
       "      <td>-34.650660</td>\n",
       "      <td>-58.376238</td>\n",
       "      <td>4.0</td>\n",
       "    </tr>\n",
       "    <tr>\n",
       "      <th>122</th>\n",
       "      <td>102.0</td>\n",
       "      <td>m2</td>\n",
       "      <td>0</td>\n",
       "      <td>0</td>\n",
       "      <td>7.0</td>\n",
       "      <td>193.0</td>\n",
       "      <td>-34.615997</td>\n",
       "      <td>-58.372730</td>\n",
       "      <td>NaN</td>\n",
       "    </tr>\n",
       "    <tr>\n",
       "      <th>107</th>\n",
       "      <td>93.0</td>\n",
       "      <td>m2</td>\n",
       "      <td>1</td>\n",
       "      <td>0</td>\n",
       "      <td>7.0</td>\n",
       "      <td>184.0</td>\n",
       "      <td>-34.674335</td>\n",
       "      <td>-58.391795</td>\n",
       "      <td>NaN</td>\n",
       "    </tr>\n",
       "    <tr>\n",
       "      <th>343</th>\n",
       "      <td>431.0</td>\n",
       "      <td>sqft</td>\n",
       "      <td>0</td>\n",
       "      <td>0</td>\n",
       "      <td>2.0</td>\n",
       "      <td>324.0</td>\n",
       "      <td>40.703436</td>\n",
       "      <td>-74.002579</td>\n",
       "      <td>NaN</td>\n",
       "    </tr>\n",
       "  </tbody>\n",
       "</table>\n",
       "</div>"
      ],
      "text/plain": [
       "      area area_units  is_house  has_pool  age  price        lat        lon  \\\n",
       "874   98.0         m2         0         0  NaN  232.0 -34.591521 -58.389672   \n",
       "784  119.0         m2         1         1  NaN  226.0 -34.650660 -58.376238   \n",
       "122  102.0         m2         0         0  7.0  193.0 -34.615997 -58.372730   \n",
       "107   93.0         m2         1         0  7.0  184.0 -34.674335 -58.391795   \n",
       "343  431.0       sqft         0         0  2.0  324.0  40.703436 -74.002579   \n",
       "\n",
       "     rooms  \n",
       "874    3.0  \n",
       "784    4.0  \n",
       "122    NaN  \n",
       "107    NaN  \n",
       "343    NaN  "
      ]
     },
     "execution_count": 105,
     "metadata": {},
     "output_type": "execute_result"
    }
   ],
   "source": [
    "# same 5 rows with at least 1 nan value (feature)\n",
    "nan_rows = df[df.isna().any(axis=1)].sample(5, random_state=42)\n",
    "\n",
    "nan_rows\n"
   ]
  },
  {
   "cell_type": "code",
   "execution_count": 106,
   "metadata": {},
   "outputs": [
    {
     "data": {
      "text/plain": [
       "(           area area_units  is_house  has_pool   age  price        lat  \\\n",
       " 70    81.011416         m2         0         0  11.0  630.0  40.718433   \n",
       " 827   99.963628         m2         0         0   7.0  772.0  40.707037   \n",
       " 231  137.000000         m2         0         0  10.0  214.0 -34.550223   \n",
       " 588   71.999825         m2         1         1  10.0  751.0  40.726223   \n",
       " 39   154.000000         m2         1         0  16.0  273.0 -34.563525   \n",
       " \n",
       "            lon  rooms  \n",
       " 70  -74.008699    2.0  \n",
       " 827 -73.998823    3.0  \n",
       " 231 -58.391268    4.0  \n",
       " 588 -74.043929    2.0  \n",
       " 39  -58.347365    4.0  ,\n",
       " (900, 9))"
      ]
     },
     "execution_count": 106,
     "metadata": {},
     "output_type": "execute_result"
    }
   ],
   "source": [
    "# convert sqft to m2\n",
    "df.loc[df['area_units'] == 'sqft', 'area'] = df['area'] * 0.092903\n",
    "df.loc[df['area_units'] == 'sqft', 'area_units'] = 'm2'\n",
    "\n",
    "df.sample(5, random_state=42), df.shape"
   ]
  },
  {
   "cell_type": "code",
   "execution_count": 107,
   "metadata": {},
   "outputs": [
    {
     "data": {
      "text/plain": [
       "['age', 'rooms']"
      ]
     },
     "execution_count": 107,
     "metadata": {},
     "output_type": "execute_result"
    }
   ],
   "source": [
    "from utils import get_nan_features\n",
    "\n",
    "\n",
    "nan_features = get_nan_features(df)\n",
    "nan_features\n",
    "\n"
   ]
  },
  {
   "cell_type": "code",
   "execution_count": 108,
   "metadata": {},
   "outputs": [
    {
     "data": {
      "text/plain": [
       "((117, 9), (59, 9), (13, 9), (711, 9))"
      ]
     },
     "execution_count": 108,
     "metadata": {},
     "output_type": "execute_result"
    }
   ],
   "source": [
    "from utils import split_by_nan_features\n",
    "\n",
    "\n",
    "has_nan_age, has_nan_rooms, has_nan_age_and_rooms, has_all_features = split_by_nan_features(df, nan_features)\n",
    "\n",
    "has_nan_age.shape, has_nan_rooms.shape, has_nan_age_and_rooms.shape, has_all_features.shape\n"
   ]
  },
  {
   "cell_type": "code",
   "execution_count": null,
   "metadata": {},
   "outputs": [],
   "source": [
    "from models import LinearRegressor, PolinomialRegressor\n",
    "from utils import train_model_for_feature\n",
    "\n",
    "#TODO: Ver por que el modelo predice age solo de 10. \n",
    "#TODO: redondea al int mas cercano rooms y age\n",
    "\n",
    "\n",
    "\n",
    "age_model, X_age_test, y_age_test = train_model_for_feature(PolinomialRegressor.change_degree(1),has_all_features[['rooms']], has_all_features['age'],seed=42)\n",
    "\n",
    "\n",
    "rooms_model, X_rooms_test, y_rooms_test = train_model_for_feature(LinearRegressor,has_all_features[['age']], has_all_features['rooms'])\n",
    "\n",
    "\n",
    "age_and_room_model, X_multi_test, y_multi_test = train_model_for_feature(LinearRegressor,has_all_features[['area']], has_all_features[['age', 'rooms']])\n",
    "\n",
    "\n",
    "\n"
   ]
  },
  {
   "cell_type": "code",
   "execution_count": 110,
   "metadata": {},
   "outputs": [
    {
     "name": "stdout",
     "output_type": "stream",
     "text": [
      "Mean Squared Error for Age Model: 17.718309859154928\n",
      "Mean Squared Error for Rooms Model: 0.8827650263854409\n",
      "Mean Squared Error for Multi Model: 8.993013181356668\n"
     ]
    }
   ],
   "source": [
    "\n",
    "\n",
    "age_mse = age_model.mse_score(X_age_test, y_age_test, round=True)\n",
    "rooms_mse = rooms_model.mse_score(X_rooms_test, y_rooms_test)\n",
    "multi_mse = age_and_room_model.mse_score(X_multi_test, y_multi_test)\n",
    "\n",
    "print(\"Mean Squared Error for Age Model:\", age_mse)\n",
    "print(\"Mean Squared Error for Rooms Model:\", rooms_mse)\n",
    "print(\"Mean Squared Error for Multi Model:\", multi_mse)"
   ]
  },
  {
   "cell_type": "code",
   "execution_count": 111,
   "metadata": {},
   "outputs": [
    {
     "name": "stdout",
     "output_type": "stream",
     "text": [
      "All missing values have been successfully filled.\n"
     ]
    },
    {
     "data": {
      "text/plain": [
       "(900, 9)"
      ]
     },
     "execution_count": 111,
     "metadata": {},
     "output_type": "execute_result"
    }
   ],
   "source": [
    "#predict the missing values and rounding to the nearest integer\n",
    "df.loc[df['age'].isnull(), 'age'] = np.round(age_model.predict(df[df['age'].isnull()][['rooms']]))\n",
    "df.loc[df['rooms'].isnull(), 'rooms'] = np.round(rooms_model.predict(df[df['rooms'].isnull()][['age']]))\n",
    "df.loc[df['age'].isnull() & df['rooms'].isnull(), ['age', 'rooms']] = np.round(age_and_room_model.predict(df[df['age'].isnull() & df['rooms'].isnull()][['area']]))\n",
    "missing_values = df.isnull().sum()\n",
    "\n",
    "\n",
    "\n",
    "if missing_values.sum() > 0:\n",
    "    print(\"There are still missing values in the DataFrame:\", missing_values)\n",
    "else:\n",
    "    print(\"All missing values have been successfully filled.\")\n",
    "\n",
    "# see df as a csv\n",
    "df.to_csv(r\"../data/processed/casas_dev.csv\", index=False)\n",
    "\n",
    "df.shape\n"
   ]
  }
 ],
 "metadata": {
  "kernelspec": {
   "display_name": "env",
   "language": "python",
   "name": "python3"
  },
  "language_info": {
   "codemirror_mode": {
    "name": "ipython",
    "version": 3
   },
   "file_extension": ".py",
   "mimetype": "text/x-python",
   "name": "python",
   "nbconvert_exporter": "python",
   "pygments_lexer": "ipython3",
   "version": "3.12.2"
  }
 },
 "nbformat": 4,
 "nbformat_minor": 2
}
